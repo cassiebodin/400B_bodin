{
 "cells": [
  {
   "cell_type": "markdown",
   "metadata": {},
   "source": [
    "# In Class Lab 1\n",
    "\n",
    "## Part A:  The Local Standard of Rest\n",
    "Proper motion of Sgr A* from Reid & Brunthaler 2004\n",
    "$\\mu = 6.379$ mas/yr \n",
    "\n",
    "Peculiar motion of the sun, $v_\\odot$ = 12.24 km/s  (Schonrich 2010)\n",
    "\n",
    "\n",
    "$v_{tan} = 4.74 \\frac{\\mu}{\\rm mas/yr} \\frac{R_o}{\\rm kpc} = V_{LSR} + v_\\odot$\n",
    "\n",
    "\n",
    "### a)\n",
    "\n",
    "Create a function called VLSR to compute the local standard of res (V$_{LSR}$).\n",
    "\n",
    "The function should take as input: the solar radius (R$_o$), the proper motion (mu)\n",
    "and the peculiar motion of the sun in the $v_\\odot$ direction.\n",
    "\n",
    "Compute V$_{LSR}$ using three different values R$_o$: \n",
    "1. Water Maser Distance for the Sun :  R$_o$ = 8.34 kpc   (Reid 2014 ApJ 783) \n",
    "2. GRAVITY Collaboration Distance for the Sun:  R$_o$ = 8.178 kpc   (Abuter+2019 A&A 625)\n",
    "3. Value for Distance to Sun listed in Sparke & Gallagher : R$_o$ = 7.9 kpc \n"
   ]
  },
  {
   "cell_type": "code",
   "execution_count": 17,
   "metadata": {},
   "outputs": [],
   "source": [
    "#import libraries\n",
    "import numpy as np"
   ]
  },
  {
   "cell_type": "code",
   "execution_count": 18,
   "metadata": {},
   "outputs": [],
   "source": [
    "# Define a function that will compute the local standard of rest velocity\n",
    "# We will use the equation 4.74*mu*R0=vsun+VSLR\n",
    "def VSLR(R0,mu=6.379,vsun=12.24):\n",
    "    #Inputs:\n",
    "    #R0 is the solar radius, the distance from the Sun to the Galactic center (kpc)\n",
    "    #mu is the proper motion of Sag A* (mas/yr): Default is from Reid & Brunthaler\n",
    "    #vsun is the peculiar motion of the sun in the v direction (km/s): Default is from Schonrich+2010\n",
    "    \n",
    "    #Return:\n",
    "    #VSLR, the local standard of rest (km/s)\n",
    "    return 4.74*mu*R0-vsun "
   ]
  },
  {
   "cell_type": "code",
   "execution_count": 19,
   "metadata": {},
   "outputs": [],
   "source": [
    "#define our known values of R0\n",
    "R0_Reid=8.34 #the distance from the Sun to the Galactic center (kpc) from Reid et al. 2014 \n",
    "R0_GRAVITY=8.178 #the distance from the Sun to the Galactic center (kpc) from GRAVITY collaboration Abuter + 2019\n",
    "R0_SG=7.9 #the distance from the Sun to the Galactic center (kpc) from the textbook Sparke & Gallegher"
   ]
  },
  {
   "cell_type": "code",
   "execution_count": 20,
   "metadata": {},
   "outputs": [
    {
     "name": "stdout",
     "output_type": "stream",
     "text": [
      "239.9320764\n"
     ]
    }
   ],
   "source": [
    "#Compute VSLR using Reid value of R0\n",
    "VSLR_Reid=VSLR(R0_Reid)\n",
    "\n",
    "#print VSLR\n",
    "print(VSLR_Reid)"
   ]
  },
  {
   "cell_type": "code",
   "execution_count": 21,
   "metadata": {},
   "outputs": [
    {
     "name": "stdout",
     "output_type": "stream",
     "text": [
      "235.03376988\n"
     ]
    }
   ],
   "source": [
    "#Compute VSLR using GRAVITY value of R0\n",
    "VSLR_GRAVITY=VSLR(R0_GRAVITY)\n",
    "\n",
    "#print VSLR\n",
    "print(VSLR_GRAVITY)"
   ]
  },
  {
   "cell_type": "code",
   "execution_count": 22,
   "metadata": {},
   "outputs": [
    {
     "name": "stdout",
     "output_type": "stream",
     "text": [
      "226.628034\n"
     ]
    }
   ],
   "source": [
    "#Compute VSLR using SG value of R0\n",
    "VSLR_SG=VSLR(R0_SG)\n",
    "\n",
    "#print VSLR\n",
    "print(VSLR_SG)"
   ]
  },
  {
   "cell_type": "markdown",
   "metadata": {},
   "source": [
    "### b)\n",
    "\n",
    "compute the orbital period of the sun using R$_o$ from the GRAVITY Collaboration (assume circular orbit)\n",
    "\n",
    "Note that 1 km/s $\\sim$ 1kpc/Gyr"
   ]
  },
  {
   "cell_type": "code",
   "execution_count": 26,
   "metadata": {},
   "outputs": [
    {
     "name": "stdout",
     "output_type": "stream",
     "text": [
      "0.207801617887\n"
     ]
    }
   ],
   "source": [
    "#Compute the orbital period of the sun, using R𝑜 from the GRAVITY Collaboration\n",
    "#T=2*pi*R/V  -- units: kpc/(km/s) ~ kpc/(kpc/Gyr) ~Gyr\n",
    "#V=Vtan=VSLR+vsun\n",
    "\n",
    "vsun=12.24\n",
    "Vtan=VSLR_GRAVITY+vsun\n",
    "T=(2*np.pi*R0_GRAVITY)/(Vtan)\n",
    "\n",
    "#Print the orbital period T in Gyr\n",
    "print(T)"
   ]
  },
  {
   "cell_type": "markdown",
   "metadata": {},
   "source": [
    "### c)\n",
    "\n",
    "Compute the number of rotations about the GC over the age of the universe (13.8 Gyr)"
   ]
  },
  {
   "cell_type": "code",
   "execution_count": 36,
   "metadata": {},
   "outputs": [
    {
     "name": "stdout",
     "output_type": "stream",
     "text": [
      "66.4094925743\n"
     ]
    }
   ],
   "source": [
    "#Compute the number of rotations about the GC over the age of the universe (13.8 Gyr)\n",
    "#\n",
    "n_rot=13.8/T\n",
    "print(n_rot)"
   ]
  },
  {
   "cell_type": "markdown",
   "metadata": {},
   "source": [
    "## Part B  Dark Matter Density Profiles\n",
    "\n",
    "### a)\n",
    "Try out Fitting Rotation Curves \n",
    "[here](http://wittman.physics.ucdavis.edu/Animations/RotationCurve/GalacticRotation.html)\n",
    "\n",
    "\n",
    "### b)\n",
    "\n",
    "In the Isothermal Sphere model, what is the mass enclosed within the solar radius (R$_o$) in units of $10^{10}$ M$_\\odot$? \n",
    "\n",
    "Recall that for the Isothermal sphere :\n",
    "$\\rho(r) = \\frac{V_{LSR}^2}{4\\pi G r^2}$\n",
    "\n",
    "Where $G$ = 4.4988e-6 kpc$^3$/Gyr$^2$/M$_\\odot$\n",
    "\n",
    "What about at 260 kpc (in units of 10$^{12}$ M$_\\odot$) ? "
   ]
  },
  {
   "cell_type": "code",
   "execution_count": 33,
   "metadata": {},
   "outputs": [],
   "source": [
    "#Gravitational Const\n",
    "G = 4.4988e-6 #units: kpc^3/Gyr^2/Msun"
   ]
  },
  {
   "cell_type": "code",
   "execution_count": 34,
   "metadata": {},
   "outputs": [],
   "source": [
    "#Use function below to compute the mass enclosed within a given radius assuming an Isothermal Sphere Model\n",
    "#Density profile: rho=VLSR^2/(4*pi*G*R^2)\n",
    "#Mass = Integrate Rho  dV\n",
    "#    Integrate rho * 4*pi*r^2dr\n",
    "#    Integrate VLSR^2/(4*pi*G*r^2) * 4*pi*r^2dr\n",
    "#    Integrate VLSR^2/G dr\n",
    "#    VLSR^2*r/G\n",
    "\n",
    "def MassIso(r, VSLR=235):\n",
    "    #Inputs:\n",
    "    #VLSR, the local standard of rest (km/s); using VSLR_GRAVITY from GRAVITY Collaboration (defined above)\n",
    "    #r, the distance from the Galactic center (kpc)\n",
    "    \n",
    "    #Returns:\n",
    "    #Mass enclosed in Msun\n",
    "    return VSLR**2/G*r"
   ]
  },
  {
   "cell_type": "code",
   "execution_count": 35,
   "metadata": {},
   "outputs": [
    {
     "name": "stdout",
     "output_type": "stream",
     "text": [
      "10.0389003734\n"
     ]
    }
   ],
   "source": [
    "#Compute mass enclosed within R0\n",
    "\n",
    "MIsoSolar=MassIso(R0_GRAVITY)\n",
    "\n",
    "#print value for mass\n",
    "print(MIsoSolar/1e10) # units: 1e10 Msun"
   ]
  },
  {
   "cell_type": "code",
   "execution_count": 38,
   "metadata": {},
   "outputs": [
    {
     "name": "stdout",
     "output_type": "stream",
     "text": [
      "3.19162887881\n"
     ]
    }
   ],
   "source": [
    "#Compute mass enclosed within 260kpc\n",
    "MIso260 = MassIso(260)\n",
    "\n",
    "#print value for mass\n",
    "print(MIso260/1e12) # units: 1e12 Msun"
   ]
  },
  {
   "cell_type": "markdown",
   "metadata": {},
   "source": [
    "## c) \n",
    "\n",
    "The Leo I satellite is one of the fastest moving satellite galaxies we know. \n",
    "\n",
    "\n",
    "It is moving with 3D velocity of magnitude: Vtot = 196 km/s at a distance of 260 kpc (Sohn 2013 ApJ 768)\n",
    "\n",
    "If we assume that Leo I is moving at the escape speed:\n",
    "\n",
    "$v_{esc}^2 = 2|\\Phi| = 2 \\int G \\frac{\\rho(r)}{r}dV $ \n",
    "\n",
    "and assuming the Milky Way is well modeled by a Hernquist Sphere with a scale radius of $a$= 30 kpc, what is the minimum mass of the Milky Way (in units of $10^{12}$ M$_\\odot$) ?  \n",
    "\n",
    "How does this compare to estimates of the mass assuming the Isothermal Sphere model at 260 kpc (from your answer above)"
   ]
  },
  {
   "cell_type": "code",
   "execution_count": 44,
   "metadata": {},
   "outputs": [],
   "source": [
    "#Potential for a Hernquist Sphere\n",
    "#  phi= - GM/(r+a)\n",
    "\n",
    "#Using the Hernquist Potential, the eq for the escape speed becomes\n",
    "# vesc^2 = - 2*G*M/(r+a)\n",
    "#Rearranging the vesc eq for M we get\n",
    "#M = vesc^2*-(r+a)/2*G\n",
    "#  =196^2*(260+30)/(2*G)\n",
    "\n",
    "#Function that will determine the total halo mass needed to set a given escape at a given distance,\n",
    "#assuming a Hernquist profile for the dark matter halo\n",
    "\n",
    "def MassFromVesc(vesc,a,r):\n",
    "    #Inputs:\n",
    "    #vesc, the escape speed in km/s or the speed of the satellite\n",
    "    #r, the distance from the Galactic center (kpc)\n",
    "    #a, Hernquist scale length (kpc)\n",
    "    \n",
    "    #Returns:\n",
    "    #Total Mass (Msun)\n",
    "    \n",
    "    return vesc**2*(r+a)/(2*G)"
   ]
  },
  {
   "cell_type": "code",
   "execution_count": 45,
   "metadata": {},
   "outputs": [
    {
     "name": "stdout",
     "output_type": "stream",
     "text": [
      "1.23817906997\n"
     ]
    }
   ],
   "source": [
    "MLeoI=MassFromVesc(196,30,260)\n",
    "\n",
    "print(MLeoI/1e12) # units: 1e12 Msun"
   ]
  },
  {
   "cell_type": "code",
   "execution_count": 46,
   "metadata": {},
   "outputs": [
    {
     "name": "stdout",
     "output_type": "stream",
     "text": [
      "2.5776795588\n"
     ]
    }
   ],
   "source": [
    "Mcompare=MIso260/MLeoI\n",
    "\n",
    "print(Mcompare)"
   ]
  },
  {
   "cell_type": "code",
   "execution_count": null,
   "metadata": {},
   "outputs": [],
   "source": []
  }
 ],
 "metadata": {
  "kernelspec": {
   "display_name": "Python 2",
   "language": "python",
   "name": "python2"
  },
  "language_info": {
   "codemirror_mode": {
    "name": "ipython",
    "version": 2
   },
   "file_extension": ".py",
   "mimetype": "text/x-python",
   "name": "python",
   "nbconvert_exporter": "python",
   "pygments_lexer": "ipython2",
   "version": "2.7.12"
  }
 },
 "nbformat": 4,
 "nbformat_minor": 2
}
