{
 "cells": [
  {
   "cell_type": "markdown",
   "metadata": {},
   "source": [
    "# Homework 5\n",
    "\n",
    "### Cassandra Bodin\n",
    "\n",
    "\n",
    "Worked with: Mackenzie James,"
   ]
  },
  {
   "cell_type": "code",
   "execution_count": 8,
   "metadata": {},
   "outputs": [],
   "source": [
    "# import modules\n",
    "import numpy as np\n",
    "import astropy.units as u\n",
    "import astropy.table as tbl\n",
    "\n",
    "#import the read file \n",
    "from ReadFile import Read\n",
    "from CenterOfMass import CenterOfMass"
   ]
  },
  {
   "cell_type": "markdown",
   "metadata": {},
   "source": [
    "## Section 1-"
   ]
  },
  {
   "cell_type": "code",
   "execution_count": 24,
   "metadata": {},
   "outputs": [],
   "source": [
    "class MassProfile:\n",
    "# Class to define mass profile of a given galaxy and simulation snapshot   \n",
    "    \n",
    "    def __init__(self, snap, galaxy):\n",
    "        \n",
    "        #Inputs:\n",
    "        #snap, Snapshot number\n",
    "        #galaxy, a string with the Galaxy name (ie MW, M31, M33)\n",
    "\n",
    "        #add a string of the filenumber to the value \"000\"\n",
    "        ilbl= '000' +str(snap)\n",
    "        #remove all but the last 3 digits\n",
    "        ilbl=ilbl[-3:]\n",
    "        self.filename=\"%s_\"%(galaxy) + ilbl + '.txt'\n",
    "    \n",
    "        # read data in the given file using Read\n",
    "        self.time, self.total, self.data = Read(self.filename)                                                                                             \n",
    "\n",
    "\n",
    "        # store the mass and positions of only the particles\n",
    "        self.m = self.data['m']\n",
    "        self.x = self.data['x']*u.kpc\n",
    "        self.y = self.data['y']*u.kpc\n",
    "        self.z = self.data['z']*u.kpc\n",
    "        \n",
    "        # store the galaxy name\n",
    "        self.gname=\"%s_\"%(galaxy)\n",
    "        \n",
    "    #Function to calculate the mass enclosed within a radius\n",
    "    def MassEnclosed(self,ptype,r):\n",
    "        #Inputs:\n",
    "        #ptype, the particle type\n",
    "        #     Halo:1\n",
    "        #     Disk:2\n",
    "        #     Bulge:3\n",
    "        #r, an array of radii, magnitude not vector quantities (kpc)\n",
    "        \n",
    "        #Returns:\n",
    "        #array of masses (Msun)\n",
    "        \n",
    "        # read COM Position data in the given file using COM_P\n",
    "        COM = CenterOfMass(self.filename,ptype)\n",
    "        COMP=COM.COM_P(0.1) #note we are defining alpha=0.1\n",
    "        \n",
    "        #initialize an empty array\n",
    "        mtot= np.zeros([])\n",
    "        \n",
    "            \n",
    "        #for loop to cycle through each radius inside\n",
    "        for i in range(len(r)):\n",
    "            i+=1 #itterate loop\n",
    "                        \n",
    "            #define a radius\n",
    "            R=(COMP[0]**2+COMP[1]**2+COMP[2]**2)(1/2)\n",
    "            \n",
    "            #select all particles within the reduced radius \n",
    "            #    starting from original x,y,z, m         \n",
    "            index = np.where(R < r)\n",
    "            mnew = self.m[index]\n",
    "            \n",
    "            #sum all of the masses within that radius\n",
    "            mtot=np.append(mtot,np.sum(mnew))\n",
    "            \n",
    "        return mtot\n",
    "            \n",
    "\n",
    "            \n"
   ]
  },
  {
   "cell_type": "code",
   "execution_count": 25,
   "metadata": {},
   "outputs": [
    {
     "name": "stdout",
     "output_type": "stream",
     "text": [
      "rvalues [ 0.25  1.75  3.25  4.75  6.25  7.75  9.25 10.75 12.25 13.75 15.25 16.75\n",
      " 18.25 19.75 21.25 22.75 24.25 25.75 27.25 28.75 30.25] kpc\n"
     ]
    },
    {
     "ename": "TypeError",
     "evalue": "'Quantity' object is not callable",
     "output_type": "error",
     "traceback": [
      "\u001b[0;31m-------------------------------------------------------------------------\u001b[0m",
      "\u001b[0;31mTypeError\u001b[0m                               Traceback (most recent call last)",
      "\u001b[0;32m<ipython-input-25-6a0090545668>\u001b[0m in \u001b[0;36m<module>\u001b[0;34m\u001b[0m\n\u001b[1;32m      4\u001b[0m \u001b[0mprint\u001b[0m\u001b[0;34m(\u001b[0m\u001b[0;34m\"rvalues\"\u001b[0m\u001b[0;34m,\u001b[0m\u001b[0mr\u001b[0m\u001b[0;34m)\u001b[0m\u001b[0;34m\u001b[0m\u001b[0;34m\u001b[0m\u001b[0m\n\u001b[1;32m      5\u001b[0m \u001b[0;34m\u001b[0m\u001b[0m\n\u001b[0;32m----> 6\u001b[0;31m \u001b[0mMW\u001b[0m\u001b[0;34m.\u001b[0m\u001b[0mMassEnclosed\u001b[0m\u001b[0;34m(\u001b[0m\u001b[0;36m1\u001b[0m\u001b[0;34m,\u001b[0m\u001b[0mr\u001b[0m\u001b[0;34m)\u001b[0m\u001b[0;34m\u001b[0m\u001b[0;34m\u001b[0m\u001b[0m\n\u001b[0m",
      "\u001b[0;32m<ipython-input-24-3da0685d67eb>\u001b[0m in \u001b[0;36mMassEnclosed\u001b[0;34m(self, ptype, r)\u001b[0m\n\u001b[1;32m     52\u001b[0m \u001b[0;34m\u001b[0m\u001b[0m\n\u001b[1;32m     53\u001b[0m             \u001b[0;31m#define a radius\u001b[0m\u001b[0;34m\u001b[0m\u001b[0;34m\u001b[0m\u001b[0;34m\u001b[0m\u001b[0m\n\u001b[0;32m---> 54\u001b[0;31m             \u001b[0mR\u001b[0m\u001b[0;34m=\u001b[0m\u001b[0;34m(\u001b[0m\u001b[0mCOMP\u001b[0m\u001b[0;34m[\u001b[0m\u001b[0;36m0\u001b[0m\u001b[0;34m]\u001b[0m\u001b[0;34m**\u001b[0m\u001b[0;36m2\u001b[0m\u001b[0;34m+\u001b[0m\u001b[0mCOMP\u001b[0m\u001b[0;34m[\u001b[0m\u001b[0;36m1\u001b[0m\u001b[0;34m]\u001b[0m\u001b[0;34m**\u001b[0m\u001b[0;36m2\u001b[0m\u001b[0;34m+\u001b[0m\u001b[0mCOMP\u001b[0m\u001b[0;34m[\u001b[0m\u001b[0;36m2\u001b[0m\u001b[0;34m]\u001b[0m\u001b[0;34m**\u001b[0m\u001b[0;36m2\u001b[0m\u001b[0;34m)\u001b[0m\u001b[0;34m(\u001b[0m\u001b[0;36m1\u001b[0m\u001b[0;34m/\u001b[0m\u001b[0;36m2\u001b[0m\u001b[0;34m)\u001b[0m\u001b[0;34m\u001b[0m\u001b[0;34m\u001b[0m\u001b[0m\n\u001b[0m\u001b[1;32m     55\u001b[0m \u001b[0;34m\u001b[0m\u001b[0m\n\u001b[1;32m     56\u001b[0m             \u001b[0;31m#select all particles within the reduced radius\u001b[0m\u001b[0;34m\u001b[0m\u001b[0;34m\u001b[0m\u001b[0;34m\u001b[0m\u001b[0m\n",
      "\u001b[0;31mTypeError\u001b[0m: 'Quantity' object is not callable"
     ]
    }
   ],
   "source": [
    "MW=MassProfile(0,\"MW\")\n",
    "\n",
    "r=np.arange(0.25,30.5,1.5)*u.kpc\n",
    "print(\"rvalues\",r)\n",
    "\n",
    "MW.MassEnclosed(1,r)"
   ]
  },
  {
   "cell_type": "code",
   "execution_count": null,
   "metadata": {},
   "outputs": [],
   "source": []
  },
  {
   "cell_type": "code",
   "execution_count": null,
   "metadata": {},
   "outputs": [],
   "source": []
  }
 ],
 "metadata": {
  "kernelspec": {
   "display_name": "Python 3",
   "language": "python",
   "name": "python3"
  },
  "language_info": {
   "codemirror_mode": {
    "name": "ipython",
    "version": 3
   },
   "file_extension": ".py",
   "mimetype": "text/x-python",
   "name": "python",
   "nbconvert_exporter": "python",
   "pygments_lexer": "ipython3",
   "version": "3.7.4"
  }
 },
 "nbformat": 4,
 "nbformat_minor": 2
}
