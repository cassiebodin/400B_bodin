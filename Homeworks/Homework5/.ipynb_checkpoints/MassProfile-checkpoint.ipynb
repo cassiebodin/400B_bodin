{
 "cells": [
  {
   "cell_type": "markdown",
   "metadata": {},
   "source": [
    "# Homework 5\n",
    "\n",
    "### Cassandra Bodin\n",
    "\n",
    "\n",
    "Worked with: Mackenzie, Ryan Webster, Madison, Sean, Jimmy"
   ]
  },
  {
   "cell_type": "code",
   "execution_count": 68,
   "metadata": {},
   "outputs": [],
   "source": [
    "# import modules\n",
    "import numpy as np\n",
    "import astropy.units as u\n",
    "import astropy.table as tbl\n",
    "\n",
    "#import the read file \n",
    "from ReadFile import Read\n",
    "from CenterOfMass import CenterOfMass"
   ]
  },
  {
   "cell_type": "markdown",
   "metadata": {},
   "source": [
    "## Section 1-"
   ]
  },
  {
   "cell_type": "code",
   "execution_count": 80,
   "metadata": {},
   "outputs": [],
   "source": [
    "##Part1\n",
    "# Class to define mass profile of a given galaxy and simulation snapshot\n",
    "class MassProfile:  \n",
    "    \n",
    "    def __init__(self, snap, galaxy):\n",
    "        \n",
    "        #Inputs:\n",
    "        #snap, Snapshot number\n",
    "        #galaxy, a string with the Galaxy name (ie MW, M31, M33)\n",
    "\n",
    "        #add a string of the filenumber to the value \"000\"\n",
    "        ilbl= '000' +str(snap)\n",
    "        #remove all but the last 3 digits\n",
    "        ilbl=ilbl[-3:]\n",
    "        self.filename=\"%s_\"%(galaxy) + ilbl + '.txt'\n",
    "    \n",
    "        # read data in the given file using Read\n",
    "        self.time, self.total, self.data = Read(self.filename)                                                                                             \n",
    "\n",
    "\n",
    "        # store the mass and positions of only the particles\n",
    "        self.m = self.data['m']\n",
    "        self.x = self.data['x']*u.kpc\n",
    "        self.y = self.data['y']*u.kpc\n",
    "        self.z = self.data['z']*u.kpc\n",
    "        \n",
    "        # store the galaxy name\n",
    "        self.gname=\"%s_\"%(galaxy)\n",
    "     \n",
    "    #Part 2\n",
    "    #Function to calculate the mass enclosed within a radius\n",
    "    def MassEnclosed(self,ptype,r):\n",
    "        #Inputs:\n",
    "        #ptype, the particle type\n",
    "        #     Halo:1\n",
    "        #     Disk:2\n",
    "        #     Bulge:3\n",
    "        #r, an array of radii, magnitude not vector quantities (kpc)\n",
    "        \n",
    "        #Returns:\n",
    "        #mencl, array of masses enclosed in radius (Msun)\n",
    "        \n",
    "        #create an array to store indexes of particles of desired Ptype                                \n",
    "        self.index = np.where(self.data['type'] == ptype)\n",
    "\n",
    "        # store the mass, positions, velocities of only the particles of the given type\n",
    "        self.m = self.data['m'][self.index]*1e10 #data in 1e10Msun\n",
    "        self.x = self.data['x'][self.index]*u.kpc\n",
    "        self.y = self.data['y'][self.index]*u.kpc\n",
    "        self.z = self.data['z'][self.index]*u.kpc\n",
    "        \n",
    "        # read COM Position data in the given file using COM_P\n",
    "        COM = CenterOfMass(self.filename,2)\n",
    "        COMP=COM.COM_P(0.1) #note we are defining alpha=0.1\n",
    "        \n",
    "        # Test, MW COM Position is [-2.07  2.95 -1.45] kpc\n",
    "        #print(\"COMP is\",COMP)\n",
    "\n",
    "        \n",
    "        #initialize an empty array\n",
    "        mencl= np.zeros(len(r))\n",
    "        \n",
    "        \n",
    "        #define a radius\n",
    "        R=((self.x-COMP[0])**2+(self.y-COMP[1])**2+(self.z-COMP[2])**2)**(1/2)\n",
    "            \n",
    "        #for loop to cycle through each radius inside\n",
    "        for i in range(len(r)):\n",
    "                    \n",
    "            #select all particles within the reduced radius \n",
    "            #    starting from original x,y,z, m         \n",
    "            index = np.where(R < r[i])\n",
    "            mnew = self.m[index]\n",
    "            \n",
    "            #sum all of the masses within that radius\n",
    "            mencl[i]=np.sum(mnew)\n",
    "            \n",
    "        return mencl*u.Msun\n",
    "    \n",
    "    ##Part3\n",
    "    #Function to calculate the mass enclosed within a radius\n",
    "    def MassEnclosedTotal(self,r):\n",
    "        #Inputs:\n",
    "        #r, a 1D array of radii (kpc)\n",
    "        \n",
    "        #Returns:\n",
    "        #mtot, array of masses (Msun)\n",
    "        \n",
    "        \n",
    "        #Define mass enclosed in terms of each of the particle types\n",
    "        #     Halo:1\n",
    "        #     Disk:2\n",
    "        #     Bulge:3\n",
    "        mhalo= self.MassEnclosed(1,r)\n",
    "        mdisk= self.MassEnclosed(2,r)\n",
    "        mbulge= self.MassEnclosed(3,r)\n",
    "        \n",
    "        #M33 has no bulge so take this into account with if statement\n",
    "        if self.gname == 'M33':\n",
    "            Mtotencl = mhalo+mdisk\n",
    "        else:\n",
    "            Mtotencl = mhalo+mdisk+mbulge\n",
    "            \n",
    "        return Mtotencl\n",
    "    \n",
    "    ##Part4\n",
    "    #Note:used code from lab3\n",
    "    #create a function that returns the Hernquist 1990 Mass profile\n",
    "    def HernquistMass(r,a,Mhalo):\n",
    "        #Inputs:\n",
    "        #r, the distance from the galactic center (kpc)\n",
    "        #a, the scale radius (kpc)\n",
    "        #Mhalo, total mass of the dark matter halo (1e12*Msun)\n",
    "\n",
    "        #Returns:\n",
    "        #total darkmatter mass enclosed within radius r (Msun)\n",
    "\n",
    "        return np.round(Mhalo*r**2/(a+r)**2,2)*1e12*u.Msun\n",
    "    \n",
    "    ##Part5\n",
    "    #create a function to create an array of circular velocities \n",
    "    #for each galaxy component at the radius of the input array\n",
    "    def CircularVelocityTotal(r):\n",
    "        #Inputs:\n",
    "        #r, a 1D array of radii (kpc)\n",
    "        \n",
    "        #Returns:\n",
    "        #Vcirc, an array of the total circulaar velocity at each r (km/s)\n",
    "        \n",
    "        "
   ]
  },
  {
   "cell_type": "markdown",
   "metadata": {},
   "source": [
    "#### Test Part 2!!!"
   ]
  },
  {
   "cell_type": "code",
   "execution_count": 78,
   "metadata": {},
   "outputs": [
    {
     "name": "stdout",
     "output_type": "stream",
     "text": [
      "rvalues [ 0.25  1.75  3.25  4.75  6.25  7.75  9.25 10.75 12.25 13.75 15.25 16.75\n",
      " 18.25 19.75 21.25 22.75 24.25 25.75 27.25 28.75 30.25] kpc\n"
     ]
    },
    {
     "data": {
      "text/latex": [
       "$[0,~1.263952 \\times 10^{9},~4.5423275 \\times 10^{9},~9.2031505 \\times 10^{9},~1.6036391 \\times 10^{10},~2.36991 \\times 10^{10},~3.1480305 \\times 10^{10},~4.0762452 \\times 10^{10},~5.2690999 \\times 10^{10},~6.347409 \\times 10^{10},~7.5758123 \\times 10^{10},~8.8239649 \\times 10^{10},~1.0238011 \\times 10^{11},~1.1565161 \\times 10^{11},~1.2987107 \\times 10^{11},~1.4416953 \\times 10^{11},~1.5894196 \\times 10^{11},~1.7347741 \\times 10^{11},~1.8556395 \\times 10^{11},~1.9875645 \\times 10^{11},~2.1265992 \\times 10^{11}] \\; \\mathrm{M_{\\odot}}$"
      ],
      "text/plain": [
       "<Quantity [0.00000000e+00, 1.26395200e+09, 4.54232750e+09, 9.20315050e+09,\n",
       "           1.60363910e+10, 2.36991000e+10, 3.14803045e+10, 4.07624520e+10,\n",
       "           5.26909990e+10, 6.34740895e+10, 7.57581230e+10, 8.82396490e+10,\n",
       "           1.02380112e+11, 1.15651608e+11, 1.29871068e+11, 1.44169525e+11,\n",
       "           1.58941964e+11, 1.73477412e+11, 1.85563953e+11, 1.98756452e+11,\n",
       "           2.12659924e+11] solMass>"
      ]
     },
     "execution_count": 78,
     "metadata": {},
     "output_type": "execute_result"
    }
   ],
   "source": [
    "MW=MassProfile(0,\"MW\") #initializes mass profile class for MW\n",
    "\n",
    "r=np.arange(0.25,30.5,1.5)*u.kpc #set radii range\n",
    "print(\"rvalues\",r) #print\n",
    "\n",
    "MW.MassEnclosed(1,r) #get enclosed halo masses at each r element"
   ]
  },
  {
   "cell_type": "markdown",
   "metadata": {},
   "source": [
    "#### Test Part 3!!!"
   ]
  },
  {
   "cell_type": "code",
   "execution_count": 81,
   "metadata": {},
   "outputs": [
    {
     "name": "stdout",
     "output_type": "stream",
     "text": [
      "rvalues [ 0.25  1.75  3.25  4.75  6.25  7.75  9.25 10.75 12.25 13.75 15.25 16.75\n",
      " 18.25 19.75 21.25 22.75 24.25 25.75 27.25 28.75 30.25] kpc\n"
     ]
    },
    {
     "data": {
      "text/latex": [
       "$[1.5964 \\times 10^{9},~2.5751642 \\times 10^{10},~4.1217674 \\times 10^{10},~5.4063794 \\times 10^{10},~6.7252278 \\times 10^{10},~7.9853196 \\times 10^{10},~9.1807532 \\times 10^{10},~1.051598 \\times 10^{11},~1.2075944 \\times 10^{11},~1.3497561 \\times 10^{11},~1.5004771 \\times 10^{11},~1.6503828 \\times 10^{11},~1.8119878 \\times 10^{11},~1.960313 \\times 10^{11},~2.1143778 \\times 10^{11},~2.2662926 \\times 10^{11},~2.4209172 \\times 10^{11},~2.5716518 \\times 10^{11},~2.6958374 \\times 10^{11},~2.8303525 \\times 10^{11},~2.9717573 \\times 10^{11}] \\; \\mathrm{M_{\\odot}}$"
      ],
      "text/plain": [
       "<Quantity [1.59640000e+09, 2.57516420e+10, 4.12176745e+10, 5.40637945e+10,\n",
       "           6.72522775e+10, 7.98531960e+10, 9.18075315e+10, 1.05159795e+11,\n",
       "           1.20759444e+11, 1.34975610e+11, 1.50047710e+11, 1.65038278e+11,\n",
       "           1.81198778e+11, 1.96031299e+11, 2.11437784e+11, 2.26629261e+11,\n",
       "           2.42091718e+11, 2.57165185e+11, 2.69583739e+11, 2.83035248e+11,\n",
       "           2.97175729e+11] solMass>"
      ]
     },
     "execution_count": 81,
     "metadata": {},
     "output_type": "execute_result"
    }
   ],
   "source": [
    "MW=MassProfile(0,\"MW\") #initializes mass profile class for MW\n",
    "\n",
    "r=np.arange(0.25,30.5,1.5)*u.kpc #set radii range\n",
    "print(\"rvalues\",r) #print\n",
    "\n",
    "MW.MassEnclosedTotal(r) #get enclosed halo masses at each r element"
   ]
  },
  {
   "cell_type": "code",
   "execution_count": null,
   "metadata": {},
   "outputs": [],
   "source": []
  }
 ],
 "metadata": {
  "kernelspec": {
   "display_name": "Python 3",
   "language": "python",
   "name": "python3"
  },
  "language_info": {
   "codemirror_mode": {
    "name": "ipython",
    "version": 3
   },
   "file_extension": ".py",
   "mimetype": "text/x-python",
   "name": "python",
   "nbconvert_exporter": "python",
   "pygments_lexer": "ipython3",
   "version": "3.7.4"
  }
 },
 "nbformat": 4,
 "nbformat_minor": 2
}
