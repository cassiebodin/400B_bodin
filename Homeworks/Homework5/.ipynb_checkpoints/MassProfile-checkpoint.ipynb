{
 "cells": [
  {
   "cell_type": "markdown",
   "metadata": {},
   "source": [
    "# Homework 5\n",
    "\n",
    "### Cassandra Bodin\n",
    "\n",
    "\n",
    "Worked with: Mackenzie James,"
   ]
  },
  {
   "cell_type": "code",
   "execution_count": 6,
   "metadata": {},
   "outputs": [
    {
     "ename": "ModuleNotFoundError",
     "evalue": "No module named 'ReadFile'",
     "output_type": "error",
     "traceback": [
      "\u001b[0;31m-------------------------------------------------------------------------\u001b[0m",
      "\u001b[0;31mModuleNotFoundError\u001b[0m                     Traceback (most recent call last)",
      "\u001b[0;32m<ipython-input-6-d3408f630159>\u001b[0m in \u001b[0;36m<module>\u001b[0;34m\u001b[0m\n\u001b[1;32m      6\u001b[0m \u001b[0;31m#import the read file\u001b[0m\u001b[0;34m\u001b[0m\u001b[0;34m\u001b[0m\u001b[0;34m\u001b[0m\u001b[0m\n\u001b[1;32m      7\u001b[0m \u001b[0;32mfrom\u001b[0m \u001b[0mReadfile\u001b[0m \u001b[0;32mimport\u001b[0m \u001b[0mRead\u001b[0m\u001b[0;34m\u001b[0m\u001b[0;34m\u001b[0m\u001b[0m\n\u001b[0;32m----> 8\u001b[0;31m \u001b[0;32mfrom\u001b[0m \u001b[0mCenterOfMass\u001b[0m \u001b[0;32mimport\u001b[0m \u001b[0mCenterOfMass\u001b[0m\u001b[0;34m\u001b[0m\u001b[0;34m\u001b[0m\u001b[0m\n\u001b[0m",
      "\u001b[0;32m~/400B_bodin/Homeworks/Homework5/CenterOfMass.py\u001b[0m in \u001b[0;36m<module>\u001b[0;34m\u001b[0m\n\u001b[1;32m     19\u001b[0m \u001b[0;34m\u001b[0m\u001b[0m\n\u001b[1;32m     20\u001b[0m \u001b[0;31m#import the read file\u001b[0m\u001b[0;34m\u001b[0m\u001b[0;34m\u001b[0m\u001b[0;34m\u001b[0m\u001b[0m\n\u001b[0;32m---> 21\u001b[0;31m \u001b[0;32mfrom\u001b[0m \u001b[0mReadFile\u001b[0m \u001b[0;32mimport\u001b[0m \u001b[0mRead\u001b[0m\u001b[0;34m\u001b[0m\u001b[0;34m\u001b[0m\u001b[0m\n\u001b[0m\u001b[1;32m     22\u001b[0m \u001b[0;34m\u001b[0m\u001b[0m\n\u001b[1;32m     23\u001b[0m \u001b[0;34m\u001b[0m\u001b[0m\n",
      "\u001b[0;31mModuleNotFoundError\u001b[0m: No module named 'ReadFile'"
     ]
    }
   ],
   "source": [
    "# import modules\n",
    "import numpy as np\n",
    "import astropy.units as u\n",
    "import astropy.table as tbl\n",
    "\n",
    "#import the read file \n",
    "from ReadFile import Read\n",
    "from CenterOfMass import CenterOfMass"
   ]
  },
  {
   "cell_type": "markdown",
   "metadata": {},
   "source": [
    "## Section 1-"
   ]
  },
  {
   "cell_type": "code",
   "execution_count": null,
   "metadata": {},
   "outputs": [],
   "source": [
    "class MassProfile:\n",
    "# Class to define mass profile of a given galaxy and simulation snapshot   \n",
    "    \n",
    "    def __init__(self, snap, galaxy):\n",
    "        \n",
    "        #Inputs:\n",
    "        #snap, Snapshot number\n",
    "        #galaxy, a string with the Galaxy name (ie MW, M31, M33)\n",
    "\n",
    "        #add a string of the filenumber to the value \"000\"\n",
    "        ilbl= '000' +str(snap)\n",
    "        #remove all but the last 3 digits\n",
    "        ilbl=ilbl[-3:]\n",
    "        self.filename=\"%s_\"%(galaxy) + ilbl + '.txt'\n",
    "    \n",
    "        # read data in the given file using Read\n",
    "        self.time, self.total, self.data = Read(filename)                                                                                             \n",
    "\n",
    "\n",
    "        # store the mass and positions of only the particles\n",
    "        self.m = self.data['m']\n",
    "        self.x = self.data['x']*u.kpc\n",
    "        self.y = self.data['y']*u.kpc\n",
    "        self.z = self.data['z']*u.kpc\n",
    "        \n",
    "        # store the galaxy name\n",
    "        self.gname=\"%s_\"%(galaxy)\n",
    "        \n",
    "    #Function to calculate the mass enclosed within a radius\n",
    "    def MassEnclosed(self,ptype,r):\n",
    "        #Inputs:\n",
    "        #ptype, the particle type\n",
    "        #     Halo:1\n",
    "        #     Disk:2\n",
    "        #     Bulge:3\n",
    "        #r, an array of radii, magnitude not vector quantities (kpc)\n",
    "        \n",
    "        #Returns:\n",
    "        #array of masses (Msun)\n",
    "        \n",
    "        # read COM Position data in the given file using COM_P\n",
    "        COM = CenterOfMass(self.filename,ptype)\n",
    "        COM_P=COM.COM_P(0.1) #note we are defining alpha=0.1\n",
    "        \n",
    "        #initialize an empty array\n",
    "        mtot= np.zeros(len(r))\n",
    "        \n",
    "        \n",
    "        #for loop to cycle through each radius inside\n",
    "        for i in range(len(r)):\n",
    "            i+=1 #itterate loop\n",
    "            \n",
    "            #define a radius\n",
    "            R=(self.x**2+self.y**2+self.z**2)**(1/2)\n",
    "        \n",
    "            #select all particles within the reduced radius \n",
    "            #    starting from original x,y,z, m         \n",
    "            index = np.where(R < r)\n",
    "            mnew = self.m[index]\n",
    "            \n",
    "            #sum all of the masses within that radius\n",
    "            mtot[i]=np.sum(mnew)\n",
    "            \n",
    "        return mtot\n",
    "            \n",
    "\n",
    "            \n"
   ]
  },
  {
   "cell_type": "code",
   "execution_count": null,
   "metadata": {},
   "outputs": [],
   "source": [
    "MW=MassProfile(\"MW\",0)\n",
    "\n",
    "r=np.arange(0.25,30.5,1.5)\n",
    "print(r)"
   ]
  },
  {
   "cell_type": "code",
   "execution_count": null,
   "metadata": {},
   "outputs": [],
   "source": []
  }
 ],
 "metadata": {
  "kernelspec": {
   "display_name": "Python 3",
   "language": "python",
   "name": "python3"
  },
  "language_info": {
   "codemirror_mode": {
    "name": "ipython",
    "version": 3
   },
   "file_extension": ".py",
   "mimetype": "text/x-python",
   "name": "python",
   "nbconvert_exporter": "python",
   "pygments_lexer": "ipython3",
   "version": "3.7.4"
  }
 },
 "nbformat": 4,
 "nbformat_minor": 2
}
