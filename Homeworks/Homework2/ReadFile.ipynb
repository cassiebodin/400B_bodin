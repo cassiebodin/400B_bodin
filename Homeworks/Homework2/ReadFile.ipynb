{
 "cells": [
  {
   "cell_type": "markdown",
   "metadata": {},
   "source": [
    "This code will read a file MW_000.txt. It will print out the time, total number of particles as variables, particle type, mass, x,y,z, and vx,vy,vz."
   ]
  },
  {
   "cell_type": "code",
   "execution_count": 3,
   "metadata": {},
   "outputs": [],
   "source": [
    "#import libraries\n",
    "#use abreviations to simplify later code\n",
    "import numpy as np\n",
    "import astropy.units as u"
   ]
  },
  {
   "cell_type": "code",
   "execution_count": 4,
   "metadata": {},
   "outputs": [],
   "source": [
    "#define a function where we will read, open, and retrieve data from a file designated as \"filename\"\n",
    "def Read(filename):\n",
    "    #Inputs:\n",
    "    #filename, we will use MW_000.txt to test the code\n",
    "    \n",
    "    #Returns:\n",
    "    #time (Myrs)\n",
    "    #tot_part, total number of particles ()\n",
    "    #data arrays from the file\n",
    "    \n",
    "    \n",
    "    #opens and reads file\n",
    "    file = open(filename,'r') \n",
    "    \n",
    "    #reading line 1,storing the time\n",
    "    line1 = file.readline()\n",
    "    label, value = line1.split()\n",
    "    time = float(value)*u.Myr\n",
    "    \n",
    "    #reading line 2, storing the total number of particles (tot_part)\n",
    "    line2 = file.readline()\n",
    "    label, value = line2.split()\n",
    "    tot_part = float(value)\n",
    "    \n",
    "    #close the file\n",
    "    file.close\n",
    "    \n",
    "    #store rest of file in np.genfromtxt to use the header information\n",
    "    #parameters:\n",
    "        #\"dtype=None\" specifies data type, none is default float\n",
    "        #    default deliminater splits line using white spaces\n",
    "        #\"names=True\" creates arrays to store data with the right labels\n",
    "            #labels are: type, m, x, y, z, vx, vy, vz\n",
    "        #\"skip_header=3\" skips the first 3 lines\n",
    "    data = np.genfromtxt(filename, dtype=None, names=True, skip_header=3)\n",
    "    \n",
    "    #returns the time, total number of particles, and array of data\n",
    "    return time, tot_part, data\n",
    "\n"
   ]
  },
  {
   "cell_type": "code",
   "execution_count": 5,
   "metadata": {},
   "outputs": [],
   "source": [
    "#test code for the file MW_000.txt\n",
    "time, tot_part, data = Read(\"MW_000.txt\")"
   ]
  },
  {
   "cell_type": "code",
   "execution_count": 6,
   "metadata": {},
   "outputs": [
    {
     "data": {
      "text/latex": [
       "$0 \\; \\mathrm{Myr}$"
      ],
      "text/plain": [
       "<Quantity 0. Myr>"
      ]
     },
     "execution_count": 6,
     "metadata": {},
     "output_type": "execute_result"
    }
   ],
   "source": [
    "#print time\n",
    "time"
   ]
  },
  {
   "cell_type": "code",
   "execution_count": 7,
   "metadata": {},
   "outputs": [
    {
     "data": {
      "text/plain": [
       "135000.0"
      ]
     },
     "execution_count": 7,
     "metadata": {},
     "output_type": "execute_result"
    }
   ],
   "source": [
    "#print total number of particles\n",
    "tot_part"
   ]
  },
  {
   "cell_type": "code",
   "execution_count": 8,
   "metadata": {},
   "outputs": [
    {
     "data": {
      "text/latex": [
       "$39498500 \\; \\mathrm{M_{\\odot}}$"
      ],
      "text/plain": [
       "<Quantity 39498500.00000001 solMass>"
      ]
     },
     "execution_count": 8,
     "metadata": {},
     "output_type": "execute_result"
    }
   ],
   "source": [
    "#prints mass of the first particle, note: first particle is particle 0\n",
    "data['m'][0]*u.Msun*1e10"
   ]
  },
  {
   "cell_type": "code",
   "execution_count": 9,
   "metadata": {},
   "outputs": [
    {
     "data": {
      "text/plain": [
       "1.0"
      ]
     },
     "execution_count": 9,
     "metadata": {},
     "output_type": "execute_result"
    }
   ],
   "source": [
    "#print type of first particle, note: first particle is particle 0\n",
    "data['type'][0]"
   ]
  },
  {
   "cell_type": "code",
   "execution_count": null,
   "metadata": {},
   "outputs": [],
   "source": []
  }
 ],
 "metadata": {
  "kernelspec": {
   "display_name": "Python 2",
   "language": "python",
   "name": "python2"
  },
  "language_info": {
   "codemirror_mode": {
    "name": "ipython",
    "version": 3
   },
   "file_extension": ".py",
   "mimetype": "text/x-python",
   "name": "python",
   "nbconvert_exporter": "python",
   "pygments_lexer": "ipython3",
   "version": "3.7.4"
  }
 },
 "nbformat": 4,
 "nbformat_minor": 2
}
