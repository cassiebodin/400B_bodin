{
 "cells": [
  {
   "cell_type": "markdown",
   "metadata": {},
   "source": [
    "This program will read in data from the readfile which will return the properties for any given particle of any given type."
   ]
  },
  {
   "cell_type": "code",
   "execution_count": 1,
   "metadata": {},
   "outputs": [],
   "source": [
    "#import libraries\n",
    "#use abreviations to simplify later code\n",
    "import numpy as np\n",
    "import astropy.units as u\n",
    "from ReadFile import Read\n",
    "from astropy.constants import kpc"
   ]
  },
  {
   "cell_type": "code",
   "execution_count": 14,
   "metadata": {},
   "outputs": [
    {
     "name": "stdout",
     "output_type": "stream",
     "text": [
      "('Radius is ', <Quantity 4.245 kpc>)\n",
      "('Converted Radius is ', <Quantity 13844.842 lyr>)\n",
      "('Velocity is ', <Quantity 312.135 km / s>)\n",
      "('Mass is ', <Quantity 1000000.0 solMass>)\n"
     ]
    }
   ],
   "source": [
    "#define a function that will extract the particle information from the ReadFile program we created.\n",
    "def ParticleInfo(filename,par_type, par_num):\n",
    "    #Inputs:\n",
    "    #filename, we will be using MW_000.txt as our file\n",
    "    #par_type, the particle type. Will use to index the information\n",
    "    #par_num, the number of particles\n",
    "    \n",
    "    #Returns:\n",
    "    #R, the calculated 3D distance using the new x,y, and z data\n",
    "    #V, the calculated 3D velocity using the new vx,vy, and vz data\n",
    "    #M, the calculated mass\n",
    "    \n",
    "    #pull data from the ReadFile using our define import\n",
    "    time, tot_part, data = Read(filename)\n",
    "    \n",
    "    #creates an index for all the particles given a property\n",
    "    index = np.where(data['type'] == par_type)\n",
    "    \n",
    "    #stores those components in the index as new variables \n",
    "    xnew=data['x'][index][par_num]\n",
    "    ynew=data['y'][index][par_num]\n",
    "    znew=data['z'][index][par_num]\n",
    "    vxnew=data['vx'][index][par_num]\n",
    "    vynew=data['vy'][index][par_num]\n",
    "    vznew=data['vz'][index][par_num]\n",
    "    mnew=data['m'][index][par_num]\n",
    "    \n",
    "    \n",
    "    #calculate values using the new variables:\n",
    "    #    R, the calculated 3D distance using the new x,y, and z data\n",
    "    #    V, the calculated 3D velocity using the new vx,vy, and vz data\n",
    "    #    M, the calculated mass    \n",
    "    R = np.sqrt(xnew**2+ynew**2+znew**2)*u.kpc\n",
    "    V = np.sqrt(vxnew**2+vynew**2+vznew**2) *u.kilometer/u.second\n",
    "    M = mnew*u.solMass\n",
    "    \n",
    "    \n",
    "    return R, V, M\n",
    "\n",
    "#pull the values from the function and redefine them\n",
    "# with defined filename=MW_000.txt, par_type=2 and par_num=99\n",
    "#R is now r\n",
    "#V is now v\n",
    "#m is now m\n",
    "r, v, m = ParticleInfo(\"MW_000.txt\",2, 99)\n",
    "\n",
    "#print statements (all values rounded 20 3 decimals)\n",
    "#print out the radius in kpc and convert to Lyr\n",
    "print(\"Radius is \", np.round(r,3))\n",
    "print(\"Converted Radius is \", np.round(r.to_value(u.lyr)*u.lyr,3))\n",
    "\n",
    "#print the velocity in km/s\n",
    "print(\"Velocity is \",np.round(v,3))\n",
    "\n",
    "#print mass in solar masses\n",
    "#mass in the file was labeled as in 10^10 Msun so multiple by 1e10\n",
    "print(\"Mass is \", m*1e10) "
   ]
  },
  {
   "cell_type": "code",
   "execution_count": null,
   "metadata": {},
   "outputs": [],
   "source": [
    " "
   ]
  }
 ],
 "metadata": {
  "kernelspec": {
   "display_name": "Python 2",
   "language": "python",
   "name": "python2"
  },
  "language_info": {
   "codemirror_mode": {
    "name": "ipython",
    "version": 2
   },
   "file_extension": ".py",
   "mimetype": "text/x-python",
   "name": "python",
   "nbconvert_exporter": "python",
   "pygments_lexer": "ipython2",
   "version": "2.7.12"
  }
 },
 "nbformat": 4,
 "nbformat_minor": 2
}
