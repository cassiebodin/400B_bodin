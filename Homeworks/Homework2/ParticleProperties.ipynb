{
 "cells": [
  {
   "cell_type": "markdown",
   "metadata": {},
   "source": [
    "This program will read in data from the readfile which will return the properties for any given particle of any given type."
   ]
  },
  {
   "cell_type": "code",
   "execution_count": 1,
   "metadata": {},
   "outputs": [],
   "source": [
    "#import libraries\n",
    "#use abreviations to simplify later code\n",
    "import numpy as np\n",
    "import astropy.units as u\n",
    "from ReadFile import Read"
   ]
  },
  {
   "cell_type": "code",
   "execution_count": 2,
   "metadata": {},
   "outputs": [],
   "source": [
    "#define a function that will extract the particle information \n",
    "#from the ReadFile program we created\n",
    "\n",
    "def ParticleInfo(filename,par_type, par_num):\n",
    "    #Inputs:\n",
    "    #filename, we will be using MW_000.txt as our file\n",
    "    #par_type, the particle type.\n",
    "    #     Halo:1\n",
    "    #     Disk:2\n",
    "    #     Bulge:3\n",
    "    #par_num, the particle number\n",
    "    \n",
    "    #Returns:\n",
    "    #R, the calculated 3D distance using the new x, y, and z data\n",
    "    #V, the calculated 3D velocity using the new vx, vy, and vz data\n",
    "    #M, the calculated mass\n",
    "    \n",
    "    #pull data from the ReadFile using our define import\n",
    "    time, tot_part, data = Read(filename)\n",
    "    \n",
    "    #creates an index for all the particles given a property\n",
    "    index = np.where(data['type'] == par_type)\n",
    "    \n",
    "    #stores those components in the index as new variables \n",
    "    xnew=data['x'][index]*u.kpc\n",
    "    ynew=data['y'][index]*u.kpc\n",
    "    znew=data['z'][index]*u.kpc\n",
    "    vxnew=data['vx'][index]*u.km/u.s\n",
    "    vynew=data['vy'][index]*u.km/u.s\n",
    "    vznew=data['vz'][index]*u.km/u.s\n",
    "    #mass in the file was labeled as in 10^10 Msun so multiply by 1e10\n",
    "    mnew=data['m'][index]*1e10*u.Msun \n",
    "    \n",
    "    \n",
    "    #calculate values using the new variables:\n",
    "    #    R, the calculated 3D distance \n",
    "    #        using the new x, y, and z data\n",
    "    #    V, the calculated 3D velocity \n",
    "    #        using the new vx, vy, and vz data\n",
    "    #    M, the calculated mass \n",
    "    #        usinf the new m data\n",
    "    R = np.sqrt(xnew[par_num-1]**2+ynew[par_num-1]**2+znew[par_num-1]**2)\n",
    "    V = np.sqrt(vxnew[par_num-1]**2+vynew[par_num-1]**2+vznew[par_num-1]**2)\n",
    "    M = mnew[par_num-1]\n",
    "    \n",
    "    #return the 3D distance, 3D velocity, and mass\n",
    "    return R, V, M"
   ]
  },
  {
   "cell_type": "code",
   "execution_count": 3,
   "metadata": {},
   "outputs": [],
   "source": [
    "#pull the values from the function and redefine them\n",
    "# with defined filename=MW_000.txt, par_type=2 and par_num=99\n",
    "#R is now r\n",
    "#V is now v\n",
    "#m is now m\n",
    "r, v, m = ParticleInfo(\"MW_000.txt\",2, 100)"
   ]
  },
  {
   "cell_type": "code",
   "execution_count": 4,
   "metadata": {},
   "outputs": [
    {
     "name": "stdout",
     "output_type": "stream",
     "text": [
      "Radius is  4.245 kpc\n",
      "Converted Radius is  13844.842 lyr\n",
      "Velocity is  312.135 km / s\n",
      "Mass is  1000000.0 solMass\n"
     ]
    }
   ],
   "source": [
    "#print statements (all values rounded to 3 decimals)\n",
    "#print out the radius in kpc and convert to Lyr\n",
    "print(\"Radius is \", np.round(r,3))\n",
    "print(\"Converted Radius is \", np.round(r.to_value(u.lyr)*u.lyr,3))\n",
    "\n",
    "#print the velocity in km/s (all values rounded to 3 decimals)\n",
    "print(\"Velocity is \",np.round(v,3))\n",
    "\n",
    "#print mass in solar masses (all values rounded to 3 decimals)\n",
    "print(\"Mass is \", m) "
   ]
  }
 ],
 "metadata": {
  "kernelspec": {
   "display_name": "Python 2",
   "language": "python",
   "name": "python2"
  },
  "language_info": {
   "codemirror_mode": {
    "name": "ipython",
    "version": 3
   },
   "file_extension": ".py",
   "mimetype": "text/x-python",
   "name": "python",
   "nbconvert_exporter": "python",
   "pygments_lexer": "ipython3",
   "version": "3.7.4"
  }
 },
 "nbformat": 4,
 "nbformat_minor": 2
}
