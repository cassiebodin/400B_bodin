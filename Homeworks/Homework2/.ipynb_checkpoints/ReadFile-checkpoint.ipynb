{
 "cells": [
  {
   "cell_type": "markdown",
   "metadata": {},
   "source": [
    "This code will read a file MW_000.txt. It will print out the time, total number of particles as variables, particle type, mass, x,y,z, and vx,vy,vz."
   ]
  },
  {
   "cell_type": "code",
   "execution_count": null,
   "metadata": {},
   "outputs": [],
   "source": [
    "#import libraries\n",
    "#use abreviations to simplify later code\n",
    "import numpy as np\n",
    "import astropy.units as u"
   ]
  },
  {
   "cell_type": "code",
   "execution_count": null,
   "metadata": {},
   "outputs": [],
   "source": [
    "filename = \"MW_000.txt\" #defines the file we will use\n",
    "\n",
    "#define a function where we will read, open, and print data from the file MW_000.txt\n",
    "def Read(filename):\n",
    "    \n",
    "    #opens and reads file\n",
    "    file = open(filename,'r') \n",
    "    \n",
    "    #reading line 1, storing the time\n",
    "    line1 = file.readline()\n",
    "    label, value = line1.split()\n",
    "    time = float(value)*10.0*u.Myr\n",
    "    \n",
    "    #reading line 2, storing the total number of particles (tot_part)\n",
    "    line2 = file.readline()\n",
    "    label, value = line2.split()\n",
    "    tot_part = float(value)*10.0*u.Myr\n",
    "    \n",
    "    #close the file\n",
    "    file.close\n",
    "    \n",
    "    #store rest of file in np.genfromtxt to use the header information\n",
    "    #parameters:\n",
    "        #\"dtype=None\" splits line using white spaces\n",
    "        #\"names=True\" creates arrays to store data with the right labels\n",
    "            #labels are: type, m, x, y, z, vx, vy, vz\n",
    "        #\"skip_header=3\" skips the first 3 lines\n",
    "    data = np.genfromtxt(MW_000.txt, dtype=None, names=True, skip_header=3)\n",
    "    \n",
    "    print(data['type'][1])\n",
    "    print(data['m'][1])\n",
    "    print(data['x'][1])\n",
    "    print(data['y'][1])\n",
    "    print(data['z'][1])\n",
    "    print(data['vx'][1])\n",
    "    print(data['vy'][1])\n",
    "    print(data['vz'][1])\n",
    "    return time, tot_part, data\n",
    "    \n"
   ]
  }
 ],
 "metadata": {
  "kernelspec": {
   "display_name": "Python 3",
   "language": "python",
   "name": "python3"
  },
  "language_info": {
   "codemirror_mode": {
    "name": "ipython",
    "version": 3
   },
   "file_extension": ".py",
   "mimetype": "text/x-python",
   "name": "python",
   "nbconvert_exporter": "python",
   "pygments_lexer": "ipython3",
   "version": "3.7.3"
  }
 },
 "nbformat": 4,
 "nbformat_minor": 2
}
