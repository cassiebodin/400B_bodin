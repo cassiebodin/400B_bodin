{
 "cells": [
  {
   "cell_type": "markdown",
   "metadata": {},
   "source": [
    "This code will read a file MW_000.txt. It will print out the time, total number of particles as variables, particle type, mass, x,y,z, and vx,vy,vz."
   ]
  },
  {
   "cell_type": "code",
   "execution_count": 4,
   "metadata": {},
   "outputs": [],
   "source": [
    "#import libraries\n",
    "#use abreviations to simplify later code\n",
    "import numpy as np\n",
    "import astropy.units as u"
   ]
  },
  {
   "cell_type": "code",
   "execution_count": 21,
   "metadata": {},
   "outputs": [
    {
     "name": "stdout",
     "output_type": "stream",
     "text": [
      "('the time is ', <Quantity 0.0 Myr>)\n",
      "('the total number of particles is ', 135000.0)\n",
      "[ ( 1.,  0.00394985,  -2.51725000e+00,   19.1588 ,   5.28528000e+01,   1.34962000e-01,  116.109   ,  -85.3822 )\n",
      " ( 1.,  0.00394985,  -2.86601000e+02,  298.455  ,   3.91692000e+02,   5.02658000e+01,  -46.4521  ,   15.1825 )\n",
      " ( 1.,  0.00394985,  -5.05945000e-01,  -28.6337 ,  -8.39565000e+01,   1.13833000e+01,   -0.974253,  -39.3509 )\n",
      " ...,\n",
      " ( 3.,  0.00010005,  -3.29432000e+00,    3.36725,   1.09023000e-01,   2.18821000e+02,   73.4462  ,   -8.81108)\n",
      " ( 3.,  0.00010005,   2.57806000e-01,    5.31409,  -6.62670000e-01,   5.46121000e+01,  -19.0044  , -190.184  )\n",
      " ( 3.,  0.00010005,  -6.57662000e-01,    3.32552,  -2.51660000e+00,  -1.37672000e+01,   44.8175  ,   16.7124 )]\n",
      "[  19.1588   298.455    -28.6337  ...,    3.36725    5.31409    3.32552]\n"
     ]
    }
   ],
   "source": [
    "filename = \"MW_000.txt\" #defines the file we will use\n",
    "\n",
    "#define a function where we will read, open, and print data from the file MW_000.txt\n",
    "def Read(filename):\n",
    "    #Inputs:\n",
    "    #filename, in this case MW_000.txt\n",
    "    \n",
    "    #Returns:\n",
    "    #time, tot_part, data arrays from the file\n",
    "    \n",
    "    \n",
    "    #opens and reads file\n",
    "    file = open(filename,'r') \n",
    "    \n",
    "    #reading line 1,labeling the value that is extracted, and storing the time\n",
    "    line1 = file.readline()\n",
    "    label, value = line1.split()\n",
    "    time = float(value)*10.0*u.Myr\n",
    "    \n",
    "    #reading line 2,labeling the value that is extracted, and storing the total number of particles (tot_part)\n",
    "    line2 = file.readline()\n",
    "    label, value = line2.split()\n",
    "    tot_part = float(value)\n",
    "    \n",
    "    #close the file\n",
    "    file.close\n",
    "    \n",
    "    #store rest of file in np.genfromtxt to use the header information\n",
    "    #parameters:\n",
    "        #\"dtype=None\" splits line using white spaces\n",
    "        #\"names=True\" creates arrays to store data with the right labels\n",
    "            #labels are: type, m, x, y, z, vx, vy, vz\n",
    "        #\"skip_header=3\" skips the first 3 lines\n",
    "    data = np.genfromtxt(\"MW_000.txt\", dtype=None, names=True, skip_header=3)\n",
    "    \n",
    "    return time, tot_part, data\n",
    "\n",
    "#print the information form the file\n",
    "if __name__==\"__main__\":\n",
    "    \n",
    "    #looks at the function above and extracts the data for time, tot_part, and data\n",
    "    time,tot_part,data = Read(filename)\n",
    "    \n",
    "    #general print statements to print time, tot_part, and data\n",
    "    print(\"the time is \", time)\n",
    "    print(\"the total number of particles is \", tot_part)\n",
    "    print(data)\n",
    "    \n",
    "    #selects piece of data to print\n",
    "    print(data['type'[1]])\n",
    "   \n"
   ]
  },
  {
   "cell_type": "code",
   "execution_count": null,
   "metadata": {},
   "outputs": [],
   "source": []
  }
 ],
 "metadata": {
  "kernelspec": {
   "display_name": "Python 2",
   "language": "python",
   "name": "python2"
  },
  "language_info": {
   "codemirror_mode": {
    "name": "ipython",
    "version": 2
   },
   "file_extension": ".py",
   "mimetype": "text/x-python",
   "name": "python",
   "nbconvert_exporter": "python",
   "pygments_lexer": "ipython2",
   "version": "2.7.12"
  }
 },
 "nbformat": 4,
 "nbformat_minor": 2
}
