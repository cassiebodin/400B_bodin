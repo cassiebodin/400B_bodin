{
 "cells": [
  {
   "cell_type": "markdown",
   "metadata": {},
   "source": [
    "This program will read in data from the readfile which will return the properties for any given particle of any given type."
   ]
  },
  {
   "cell_type": "code",
   "execution_count": null,
   "metadata": {},
   "outputs": [],
   "source": [
    "#import libraries\n",
    "#use abreviations to simplify later code\n",
    "import numpy as np\n",
    "import astropy.units as u\n",
    "from ReadFile import Read\n",
    "from astropy.constants import kpc,M_sun"
   ]
  },
  {
   "cell_type": "code",
   "execution_count": null,
   "metadata": {},
   "outputs": [],
   "source": [
    "def ParticleInfo(filename,par_type, par_num):\n",
    "    x=data['x']*kpc\n",
    "    y=data['y']*kpc\n",
    "    z=data['z']*kpc\n",
    "    vx=data['vx']*u.kilometer/u.second\n",
    "    vy=data['vy']*u.kilometer/u.second\n",
    "    vz=data['vz']*u.kilometer/u.second\n",
    "    m=data['m']*M_sun\n",
    "    \n",
    "    "
   ]
  }
 ],
 "metadata": {
  "kernelspec": {
   "display_name": "Python 3",
   "language": "python",
   "name": "python3"
  },
  "language_info": {
   "codemirror_mode": {
    "name": "ipython",
    "version": 3
   },
   "file_extension": ".py",
   "mimetype": "text/x-python",
   "name": "python",
   "nbconvert_exporter": "python",
   "pygments_lexer": "ipython3",
   "version": "3.7.3"
  }
 },
 "nbformat": 4,
 "nbformat_minor": 2
}
