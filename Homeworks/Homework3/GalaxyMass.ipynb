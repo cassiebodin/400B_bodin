{
 "cells": [
  {
   "cell_type": "markdown",
   "metadata": {},
   "source": [
    "# Homework 3\n",
    "\n",
    "In this code I will compute the mass breakdown of the Local Group (SnapNumber 0) using the most massive members: the Milky Way (MW), M31, and M33."
   ]
  },
  {
   "cell_type": "markdown",
   "metadata": {},
   "source": [
    "## 1 Return Mass\n",
    "\n",
    "Create a function that will return the total mass of each of the galaxy components. "
   ]
  },
  {
   "cell_type": "code",
   "execution_count": 1,
   "metadata": {},
   "outputs": [],
   "source": [
    "#import libraries\n",
    "#use abreviations to simplify later code\n",
    "import numpy as np\n",
    "import astropy.units as u\n",
    "from ReadFile import Read"
   ]
  },
  {
   "cell_type": "code",
   "execution_count": 2,
   "metadata": {},
   "outputs": [],
   "source": [
    "def ComponentMass(filename, par_type):\n",
    "    #Inputs:\n",
    "    #filename, designates which file we will take data from\n",
    "    #    files we will use are: MW_000.txt, M31_000.txt, M33_000.txt\n",
    "    #par_type, the particle type\n",
    "    #     Halo:1\n",
    "    #     Disk:2\n",
    "    #     Bulge:3\n",
    "    \n",
    "    #Returns:\n",
    "    #Mtot, the total mass of a galaxy component\n",
    "    \n",
    "    #pull data from the ReadFile using our define import\n",
    "    time, tot_part, data = Read(filename)\n",
    "    \n",
    "    #creates an index for all the particles given a property\n",
    "    index = np.where(data['type'] == par_type)\n",
    "    \n",
    "    #stores those components in the index as new variables \n",
    "    #mass in the file was labeled as in 10^10 Msun so multiply by 1e10\n",
    "    mnew=data['m'][index]*1e10*u.Msun\n",
    "    \n",
    "    #generate the mass\n",
    "    #Note: will round the mass to 3 decimal places later in the code\n",
    "    Mtot= np.sum(mnew)\n",
    "    \n",
    "    #return the total mass\n",
    "    return Mtot"
   ]
  },
  {
   "cell_type": "markdown",
   "metadata": {},
   "source": [
    "## 2 Mass Breakdown\n",
    "\n",
    "Make a table of the masses computed using the Component Mass function and the files for the Milky Way(MW) , M31, and M33. Files we will use are: MW_000.txt, M31_000.txt, M33_000.txt\n",
    "\n",
    "Note: Table will appear above the code to compute the total mass for each type of particle (Halo, Disk, Bulge) in each galaxy, the total mass of each galaxy, the total mass in the local group, the baryon fraction for each galaxy, and the baryon fraction for the local group."
   ]
  },
  {
   "cell_type": "markdown",
   "metadata": {},
   "source": [
    "### 2.1 Mtot for each type of particle (Halo, Disk, Bulge) in each Galaxy: MW, M31, and M33"
   ]
  },
  {
   "cell_type": "code",
   "execution_count": 3,
   "metadata": {},
   "outputs": [
    {
     "name": "stdout",
     "output_type": "stream",
     "text": [
      "Total mass in the MW halo is  1.975 solMass\n",
      "Total mass in the MW disk is  0.075 solMass\n",
      "Total mass in the MW bulge is  0.01 solMass\n"
     ]
    }
   ],
   "source": [
    "#Get data for the milky way file \"MW_000.txt\" for the total masses\n",
    "#the different numbers after mtot identify the particle type as following:\n",
    "#     Halo:1\n",
    "#     Disk:2\n",
    "#     Bulge:3\n",
    "mtotmw_1 = np.round(ComponentMass(\"MW_000.txt\",1)/1e12,3)\n",
    "mtotmw_2 = np.round(ComponentMass(\"MW_000.txt\",2)/1e12,3)\n",
    "mtotmw_3 = np.round(ComponentMass(\"MW_000.txt\",3)/1e12,3)\n",
    "\n",
    "#Print the masses for each in 10^12 Msun\n",
    "print(\"Total mass in the MW halo is \", mtotmw_1)\n",
    "print(\"Total mass in the MW disk is \", mtotmw_2)\n",
    "print(\"Total mass in the MW bulge is \", mtotmw_3)"
   ]
  },
  {
   "cell_type": "code",
   "execution_count": 4,
   "metadata": {},
   "outputs": [
    {
     "name": "stdout",
     "output_type": "stream",
     "text": [
      "Total mass in the halo is  1.921 solMass\n",
      "Total mass in the M31 disk is  0.12 solMass\n",
      "Total mass in the M31 bulge is  0.019 solMass\n"
     ]
    }
   ],
   "source": [
    "#Get data for the galaxy M31 file \"M31_000.txt\" for the total masses\n",
    "#the different numbers after mtot identify the particle type as following:\n",
    "#     Halo:1\n",
    "#     Disk:2\n",
    "#     Bulge:3\n",
    "mtotm31_1 = np.round(ComponentMass(\"M31_000.txt\",1)/1e12,3)\n",
    "mtotm31_2 = np.round(ComponentMass(\"M31_000.txt\",2)/1e12,3)\n",
    "mtotm31_3 = np.round(ComponentMass(\"M31_000.txt\",3)/1e12,3)\n",
    "\n",
    "#Print the masses for each in 10^12 Msun\n",
    "print(\"Total mass in the halo is \", mtotm31_1)\n",
    "print(\"Total mass in the M31 disk is \", mtotm31_2)\n",
    "print(\"Total mass in the M31 bulge is \", mtotm31_3)"
   ]
  },
  {
   "cell_type": "code",
   "execution_count": 5,
   "metadata": {},
   "outputs": [
    {
     "name": "stdout",
     "output_type": "stream",
     "text": [
      "Total mass in the M33 halo is  0.187 solMass\n",
      "Total mass in the M33 disk is  0.009 solMass\n",
      "Total mass in the M33 bulge is  0.0 solMass\n"
     ]
    }
   ],
   "source": [
    "#Get data for the galaxy M33 file \"M33_000.txt\" for the total masses\n",
    "#the different numbers after mtot identify the particle type as following:\n",
    "#     Halo:1\n",
    "#     Disk:2\n",
    "#     Bulge:3\n",
    "mtotm33_1 = np.round(ComponentMass(\"M33_000.txt\",1)/1e12,3)\n",
    "mtotm33_2 = np.round(ComponentMass(\"M33_000.txt\",2)/1e12,3)\n",
    "mtotm33_3 = np.round(ComponentMass(\"M33_000.txt\",3)/1e12,3)\n",
    "\n",
    "#Print the masses for each in 10^12 Msun\n",
    "print(\"Total mass in the M33 halo is \", mtotm33_1)\n",
    "print(\"Total mass in the M33 disk is \", mtotm33_2)\n",
    "print(\"Total mass in the M33 bulge is \", mtotm33_3)"
   ]
  },
  {
   "cell_type": "markdown",
   "metadata": {},
   "source": [
    "### 2.2 Mtot in each Galaxy: MW, M31, and M33"
   ]
  },
  {
   "cell_type": "code",
   "execution_count": 6,
   "metadata": {},
   "outputs": [
    {
     "name": "stdout",
     "output_type": "stream",
     "text": [
      "Total mass in the MW is  2.06 solMass\n"
     ]
    }
   ],
   "source": [
    "#Calculate the total mass of the Milky Way by adding the mass components\n",
    "MtotMW= mtotmw_1+mtotmw_2+mtotmw_3\n",
    "\n",
    "#Print the mass in 10^12 Msun\n",
    "print(\"Total mass in the MW is \", MtotMW)"
   ]
  },
  {
   "cell_type": "code",
   "execution_count": 7,
   "metadata": {},
   "outputs": [
    {
     "name": "stdout",
     "output_type": "stream",
     "text": [
      "Total mass in M31 is  2.06 solMass\n"
     ]
    }
   ],
   "source": [
    "#Calculate the total mass of the M31 by adding the mass components\n",
    "MtotM31= mtotm31_1+mtotm31_2+mtotm31_3\n",
    "\n",
    "#Print the mass in 10^12 Msun\n",
    "print(\"Total mass in M31 is \", MtotM31)"
   ]
  },
  {
   "cell_type": "code",
   "execution_count": 8,
   "metadata": {},
   "outputs": [
    {
     "name": "stdout",
     "output_type": "stream",
     "text": [
      "Total mass in M33 is  0.196 solMass\n"
     ]
    }
   ],
   "source": [
    "#Calculate the total mass of the M33 by adding the mass components\n",
    "MtotM33= mtotm33_1+mtotm33_2+mtotm33_3\n",
    "\n",
    "#Print the mass in 10^12 Msun\n",
    "print(\"Total mass in M33 is \", MtotM33)"
   ]
  },
  {
   "cell_type": "markdown",
   "metadata": {},
   "source": [
    "### 2.3 Mtot of the local group"
   ]
  },
  {
   "cell_type": "code",
   "execution_count": 9,
   "metadata": {},
   "outputs": [
    {
     "name": "stdout",
     "output_type": "stream",
     "text": [
      "Total mass in the local group is  4.316 solMass\n"
     ]
    }
   ],
   "source": [
    "#Calculate the total mass of the local group\n",
    "MtotLG= MtotMW+MtotM31+MtotM33\n",
    "\n",
    "#Print the mass in 10^12 Msun\n",
    "print(\"Total mass in the local group is \", MtotLG)"
   ]
  },
  {
   "cell_type": "markdown",
   "metadata": {},
   "source": [
    "### 2.4 Baryon Fraction for each Galaxy: MW, M31, and M33\n",
    "baryon fraction = total stellar mass/total mass = (mass in disk(type2)+mass in bulge(type3))/total mass\n",
    "or\n",
    "fbar=(mtot_2+mtot_3)/Mtot"
   ]
  },
  {
   "cell_type": "code",
   "execution_count": 10,
   "metadata": {},
   "outputs": [
    {
     "name": "stdout",
     "output_type": "stream",
     "text": [
      "baryon fraction for the milky way is 0.041\n"
     ]
    }
   ],
   "source": [
    "#Calculate the baryon fraction in the Milky Way\n",
    "fbarMW=np.round(((mtotmw_2+mtotmw_3)/MtotMW),3)\n",
    "\n",
    "#print baryon fraction\n",
    "print(\"baryon fraction for the milky way is\", fbarMW)"
   ]
  },
  {
   "cell_type": "code",
   "execution_count": 11,
   "metadata": {},
   "outputs": [
    {
     "name": "stdout",
     "output_type": "stream",
     "text": [
      "baryon fraction for M31 is 0.067\n"
     ]
    }
   ],
   "source": [
    "#Calculate the baryon fraction in the M31\n",
    "fbarM31=np.round(((mtotm31_2+mtotm31_3)/MtotM31),3)\n",
    "\n",
    "#print baryon fraction\n",
    "print(\"baryon fraction for M31 is\", fbarM31)"
   ]
  },
  {
   "cell_type": "code",
   "execution_count": 12,
   "metadata": {},
   "outputs": [
    {
     "name": "stdout",
     "output_type": "stream",
     "text": [
      "baryon fraction for M33 is 0.046\n"
     ]
    }
   ],
   "source": [
    "#Calculate the baryon fraction in the M33\n",
    "fbarM33=np.round(((mtotm33_2+mtotm33_3)/MtotM33),3)\n",
    "\n",
    "#print baryon fraction\n",
    "print(\"baryon fraction for M33 is\", fbarM33)"
   ]
  },
  {
   "cell_type": "markdown",
   "metadata": {},
   "source": [
    "### 2.4 Baryon Fraction for the local group\n",
    "baryon fraction = total stellar mass/total mass = (mass in disk(type2)+mass in bulge(type3))/total mass\n",
    "or\n",
    "fbar=(mtotmw_2+mtot31_2+mtot33_2+mtotmw_3+mtotm31_3+mtotm33_3)/MtotLG"
   ]
  },
  {
   "cell_type": "code",
   "execution_count": 13,
   "metadata": {},
   "outputs": [
    {
     "name": "stdout",
     "output_type": "stream",
     "text": [
      "baryon fraction for the local group is 0.054\n"
     ]
    }
   ],
   "source": [
    "#Calculate the baryon fraction in the local group\n",
    "fbarLG=np.round(((mtotmw_2+mtotm31_2+mtotm33_2+mtotmw_3+mtotm31_3+mtotm33_3)/MtotLG),3)\n",
    "\n",
    "#print baryon fraction\n",
    "print(\"baryon fraction for the local group is\", fbarLG)"
   ]
  },
  {
   "cell_type": "code",
   "execution_count": null,
   "metadata": {},
   "outputs": [],
   "source": []
  }
 ],
 "metadata": {
  "kernelspec": {
   "display_name": "Python 3",
   "language": "python",
   "name": "python3"
  },
  "language_info": {
   "codemirror_mode": {
    "name": "ipython",
    "version": 3
   },
   "file_extension": ".py",
   "mimetype": "text/x-python",
   "name": "python",
   "nbconvert_exporter": "python",
   "pygments_lexer": "ipython3",
   "version": "3.7.4"
  }
 },
 "nbformat": 4,
 "nbformat_minor": 2
}
